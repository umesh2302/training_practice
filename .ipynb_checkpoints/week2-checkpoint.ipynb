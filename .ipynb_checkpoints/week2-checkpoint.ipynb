{
 "cells": [
  {
   "cell_type": "code",
   "execution_count": 8,
   "metadata": {},
   "outputs": [],
   "source": [
    "def count_wins(dice1, dice2):\n",
    "    assert len(dice1) == 6 and len(dice2) == 6\n",
    "    dice1_wins, dice2_wins = 0, 0\n",
    "    num_rounds = 10**3\n",
    "    for _ in range(num_rounds):\n",
    "      dice1_result = dice1[randint(0, 5)]\n",
    "      dice2_result = dice2[randint(0, 5)]\n",
    "      if dice1_result > dice2_result:\n",
    "            dice1_wins += 1\n",
    "      elif dice2_result > dice1_result:\n",
    "            dice2_wins += 1\n",
    "\n",
    "\n",
    "    return (dice1_wins, dice2_wins)"
   ]
  },
  {
   "cell_type": "code",
   "execution_count": 6,
   "metadata": {},
   "outputs": [],
   "source": [
    "from random import randint, seed"
   ]
  },
  {
   "cell_type": "code",
   "execution_count": 2,
   "metadata": {},
   "outputs": [],
   "source": [
    "dice1 = [1, 1, 6, 6, 8, 8]\n",
    "dice2 = [2, 2, 4, 4, 9, 9]"
   ]
  },
  {
   "cell_type": "code",
   "execution_count": 9,
   "metadata": {},
   "outputs": [
    {
     "data": {
      "text/plain": [
       "(451, 549)"
      ]
     },
     "execution_count": 9,
     "metadata": {},
     "output_type": "execute_result"
    }
   ],
   "source": [
    "count_wins(dice1, dice2)"
   ]
  },
  {
   "cell_type": "code",
   "execution_count": 33,
   "metadata": {},
   "outputs": [],
   "source": [
    "def find_the_best_dice(dices):\n",
    "    assert all(len(dice) == 6 for dice in dices)\n",
    "    num_rounds = 10**4\n",
    "    win_dice = []\n",
    "    for i in range (len (dices)):\n",
    "        Total_win = []\n",
    "        for j in range (len(dices)):\n",
    "            if j!= i :\n",
    "                dice1wins, dice2wins =count_wins(dices[i],dices[j])\n",
    "        \n",
    "                if dice1wins > dice2wins: \n",
    "                    Total_win.append(1)\n",
    "                    print (i,j,Total_win)\n",
    "        if sum(Total_win) == len (dices)-1:\n",
    "            return i\n",
    "    \n",
    "    \n",
    "    return -1"
   ]
  },
  {
   "cell_type": "code",
   "execution_count": 35,
   "metadata": {},
   "outputs": [],
   "source": [
    "dices1 = [[1, 1, 2, 4, 5, 7], [1, 2, 2, 3, 4, 7], [1, 2, 3, 4, 5, 6]]"
   ]
  },
  {
   "cell_type": "code",
   "execution_count": 40,
   "metadata": {},
   "outputs": [
    {
     "name": "stdout",
     "output_type": "stream",
     "text": [
      "0 1 [1]\n",
      "1 2 [1]\n",
      "1 3 [1, 1]\n",
      "2 0 [1]\n",
      "3 2 [1]\n"
     ]
    },
    {
     "data": {
      "text/plain": [
       "-1"
      ]
     },
     "execution_count": 40,
     "metadata": {},
     "output_type": "execute_result"
    }
   ],
   "source": [
    "find_the_best_dice(dices3)"
   ]
  },
  {
   "cell_type": "code",
   "execution_count": 37,
   "metadata": {},
   "outputs": [],
   "source": [
    "dices2 = [[1, 1, 6, 6, 8, 8], [2, 2, 4, 4, 9, 9], [3, 3, 5, 5, 7, 7]]"
   ]
  },
  {
   "cell_type": "code",
   "execution_count": 39,
   "metadata": {},
   "outputs": [],
   "source": [
    "dices3 = [[3, 3, 3, 3, 3, 3], [6, 6, 2, 2, 2, 2], [4, 4, 4, 4, 0, 0], [5, 5, 5, 1, 1, 1]]"
   ]
  },
  {
   "cell_type": "code",
   "execution_count": null,
   "metadata": {},
   "outputs": [],
   "source": []
  }
 ],
 "metadata": {
  "kernelspec": {
   "display_name": "Python 3",
   "language": "python",
   "name": "python3"
  },
  "language_info": {
   "codemirror_mode": {
    "name": "ipython",
    "version": 3
   },
   "file_extension": ".py",
   "mimetype": "text/x-python",
   "name": "python",
   "nbconvert_exporter": "python",
   "pygments_lexer": "ipython3",
   "version": "3.8.3"
  }
 },
 "nbformat": 4,
 "nbformat_minor": 4
}
