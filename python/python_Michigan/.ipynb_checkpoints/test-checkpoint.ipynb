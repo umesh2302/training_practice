{
 "cells": [
  {
   "cell_type": "code",
   "execution_count": null,
   "metadata": {},
   "outputs": [],
   "source": [
    "import math\n",
    "import zipfile\n",
    "from PIL import Image, ImageOps, ImageDraw\n",
    "import pytesseract\n",
    "import cv2 as cv\n",
    "import numpy as np\n",
    "# loading the face detection classifier\n",
    "face_cascade = cv.CascadeClassifier('haarcascade_frontalface_default.xml')"
   ]
  },
  {
   "cell_type": "code",
   "execution_count": null,
   "metadata": {},
   "outputs": [],
   "source": [
    "parsed_img = {}"
   ]
  },
  {
   "cell_type": "code",
   "execution_count": null,
   "metadata": {},
   "outputs": [],
   "source": [
    "with zipfile.ZipFile('small_img.zip', 'r') as archive:\n",
    "    for entry in archive.infolist():\n",
    "        with archive.open(entry) as file:\n",
    "            image = Image.open(file).convert('RGB')\n",
    "            parsed_img[entry.filename] = {'pil_img':image}"
   ]
  },
  {
   "cell_type": "code",
   "execution_count": null,
   "metadata": {},
   "outputs": [],
   "source": [
    "for imgName in parsed_img.keys():\n",
    "    text = pytesseract.image_to_string(parsed_img[imgName]['pil_img'])\n",
    "    parsed_img[imgName]['text'] = text"
   ]
  },
  {
   "cell_type": "code",
   "execution_count": null,
   "metadata": {},
   "outputs": [],
   "source": [
    "for imgName in parsed_img.keys():\n",
    "    open_cv_image = np.array(parsed_img[imgName]['pil_img']) \n",
    "    img = cv.cvtColor(open_cv_image, cv.COLOR_BGR2GRAY)\n",
    "    faces_bounding_boxes = face_cascade.detectMultiScale(img, 1.3, 5)\n",
    "    parsed_img[imgName]['faces'] = []\n",
    "    for x,y,w,h in faces_bounding_boxes:\n",
    "        face = parsed_img[imgName]['pil_img'].crop((x,y,x+w,y+h))\n",
    "        parsed_img[imgName]['faces'].append(face)"
   ]
  },
  {
   "cell_type": "code",
   "execution_count": null,
   "metadata": {},
   "outputs": [],
   "source": [
    "for imgName in parsed_img.keys():\n",
    "    for face in parsed_img[imgName]['faces']:\n",
    "        face.thumbnail((100,100),Image.ANTIALIAS)"
   ]
  },
  {
   "cell_type": "code",
   "execution_count": null,
   "metadata": {},
   "outputs": [],
   "source": [
    "def search(keyword):\n",
    "    for imgName in parsed_img:\n",
    "        if (keyword in parsed_img[imgName]['text']):\n",
    "            if(len(parsed_img[imgName]['faces']) != 0):\n",
    "                print(\"Result found in file {}\".format(imgName))\n",
    "                h = math.ceil(len(parsed_img[imgName]['faces'])/5)\n",
    "                sheet=Image.new('RGB',(500, 100*h))\n",
    "                xc = 0\n",
    "                yc = 0\n",
    "                for img in parsed_img[imgName]['faces']:\n",
    "                    contact_sheet.paste(img, (xc, yc))\n",
    "                    if xc + 100 == contact_sheet.width:\n",
    "                        xc = 0\n",
    "                        yc += 100\n",
    "                    else:\n",
    "                        xc += 100\n",
    "                        \n",
    "                display(sheet)\n",
    "            else:\n",
    "                print(\"Result found in file {} \\nBut there were no faces in that file\\n\\n\".format(img_name))\n",
    "    return"
   ]
  },
  {
   "cell_type": "code",
   "execution_count": null,
   "metadata": {},
   "outputs": [],
   "source": [
    "search('Christopher')"
   ]
  },
  {
   "cell_type": "code",
   "execution_count": null,
   "metadata": {},
   "outputs": [],
   "source": [
    "search('Mark')"
   ]
  }
 ],
 "metadata": {
  "kernelspec": {
   "display_name": "Python 3",
   "language": "python",
   "name": "python3"
  },
  "language_info": {
   "codemirror_mode": {
    "name": "ipython",
    "version": 3
   },
   "file_extension": ".py",
   "mimetype": "text/x-python",
   "name": "python",
   "nbconvert_exporter": "python",
   "pygments_lexer": "ipython3",
   "version": "3.8.3"
  }
 },
 "nbformat": 4,
 "nbformat_minor": 4
}
