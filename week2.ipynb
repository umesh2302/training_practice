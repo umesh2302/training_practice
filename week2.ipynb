{
 "cells": [
  {
   "cell_type": "code",
   "execution_count": 41,
   "metadata": {},
   "outputs": [],
   "source": [
    "def count_wins(dice1, dice2):\n",
    "    assert len(dice1) == 6 and len(dice2) == 6\n",
    "    dice1_wins, dice2_wins, equal = 0, 0,0\n",
    "    for i in range(6):\n",
    "        for j in range (6):\n",
    "            if dice1[i]>dice2[j]:\n",
    "                dice1_wins += 1\n",
    "            elif dice1[i]<dice2[j]:\n",
    "                dice2_wins += 1\n",
    "      \n",
    "    return (dice1_wins, dice2_wins)"
   ]
  },
  {
   "cell_type": "markdown",
   "metadata": {},
   "source": [
    "Project Overview\n",
    "In this series of three programming tasks, we will implement together a program that will play optimally in a tricky dice game! You program will be given a list of dices and will decide who chooses the dice first (you or your opponent).\n",
    "\n",
    "When the dices are chosen, we will simulate 10000 throws. Each time your number is greater, you get $1 from your opponent. Conversely, each time your number is smaller, you pay $1 to your opponent.\n",
    "\n",
    "Your ultimate goal is to implement a program that always wins in such a simulation.\n",
    "\n",
    "First Task: Compare Two Dices\n",
    "Implement a function that takes two dices as input and computes two values: the first value is the number of times the first dice wins (out of all possible 36 choices), the second value is the number of times the second dice wins. We say that a dice wins if the number on it is greater than the number on the other dice.\n",
    "\n",
    "To debug your implementation, use the following test cases:\n",
    "\n",
    "Sample 1\n",
    "\n",
    "Input: dice1 = [1, 2, 3, 4, 5, 6], dice2 = [1, 2, 3, 4, 5, 6]\n",
    "\n",
    "Output: (15, 15)\n",
    "\n",
    "Sample 2\n",
    "\n",
    "Input: dice1 = [1, 1, 6, 6, 8, 8], dice2 = [2, 2, 4, 4, 9, 9]\n",
    "\n",
    "Output: (16, 20)\n",
    "\n",
    "Second Task: Is there the Best Dice?\n",
    "Now, your goal is to check whether among the three given dices there is one that is better than the remaining two dices.\n",
    "\n",
    "Implement a function that takes a list of dices and checks whether there is dice (in this list) that is better than all other dices. We say that a dice is better than another one, if it wins more frequently (that is, out of all 36 possibilities, it wins in aa cases, while the second one wins in bb cases, and a>ba>b). If there is such a dice, return its (0-based) index. Otherwise, return -1.\n",
    "\n",
    "Use the following datasets for debugging:\n",
    "\n",
    "Sample 1\n",
    "\n",
    "Input: [[1, 1, 6, 6, 8, 8], [2, 2, 4, 4, 9, 9], [3, 3, 5, 5, 7, 7]]\n",
    "\n",
    "Output: -1\n",
    "\n",
    "Sample 2\n",
    "\n",
    "Input: [[1, 1, 2, 4, 5, 7], [1, 2, 2, 3, 4, 7], [1, 2, 3, 4, 5, 6]]\n",
    "\n",
    "Output: 2\n",
    "\n",
    "Sample 3\n",
    "\n",
    "Input: [[3, 3, 3, 3, 3, 3], [6, 6, 2, 2, 2, 2], [4, 4, 4, 4, 0, 0], [5, 5, 5, 1, 1, 1]]\n",
    "\n",
    "Output: -1\n",
    "\n",
    "Third Task: Implement a Strategy\n",
    "You are now ready to play!\n",
    "\n",
    "Implement a function that takes a list of dices (possibly more than three) and returns a strategy. The strategy is a dictionary:\n",
    "\n",
    "If, after analyzing the given list of dices, you decide to choose a dice first, set strategy[\"choose_first\"] to True and set strategy[\"first_dice\"] to be the (0-based) index of the dice you would like to choose\n",
    "\n",
    "If you would like to be the second one to choose a dice, set strategy[\"choose_first\"] to False. Then, specify, for each dice that your opponent may take, the dice that you would take in return. Namely, for each i from 0 to len(dices)-1, set strategy[i] to an index j of the dice that you would take if the opponent takes the i-th dice first.\n",
    "\n",
    "Use the following datasets for debugging:\n",
    "\n",
    "Sample 1\n",
    "\n",
    "Input: [[1, 1, 4, 6, 7, 8], [2, 2, 2, 6, 7, 7], [3, 3, 3, 5, 5, 8]]\n",
    "\n",
    "Output: {'choose_first': False, 0: 1, 1: 2, 2: 0}\n",
    "\n",
    "Sample 2\n",
    "\n",
    "Input: [[4, 4, 4, 4, 0, 0], [7, 7, 3, 3, 3, 3], [6, 6, 2, 2, 2, 2], [5, 5, 5, 1, 1, 1]]\n",
    "\n",
    "Output: {'choose_first': True, 'first_dice': 1}\n",
    "\n",
    "Note that your answers do not have to coincide with the answers above. First, the order of elements does not matter in the dictionary. Second, the dictionary might contain extra information that is not required in the statement of the problem. For example, {0: 3, 'first_dice': 1, 'choose_first': True} is also a correct output in Sample 2."
   ]
  },
  {
   "cell_type": "code",
   "execution_count": 6,
   "metadata": {},
   "outputs": [],
   "source": [
    "from random import randint, seed"
   ]
  },
  {
   "cell_type": "code",
   "execution_count": 42,
   "metadata": {},
   "outputs": [],
   "source": [
    "dice1 = [1, 1, 6, 6, 8, 8]\n",
    "dice2 = [2, 2, 4, 4, 9, 9]"
   ]
  },
  {
   "cell_type": "code",
   "execution_count": 43,
   "metadata": {},
   "outputs": [
    {
     "data": {
      "text/plain": [
       "(16, 20)"
      ]
     },
     "execution_count": 43,
     "metadata": {},
     "output_type": "execute_result"
    }
   ],
   "source": [
    "count_wins(dice1, dice2)"
   ]
  },
  {
   "cell_type": "code",
   "execution_count": 59,
   "metadata": {},
   "outputs": [],
   "source": [
    "def find_the_best_dice(dices):\n",
    "    assert all(len(dice) == 6 for dice in dices)\n",
    "    num_rounds = 10**4\n",
    "    win_dice = []\n",
    "    for i in range (len (dices)):\n",
    "        Total_win = []\n",
    "        for j in range (len(dices)):\n",
    "            if j!= i :\n",
    "                dice1wins, dice2wins =count_wins(dices[i],dices[j])\n",
    "        \n",
    "                if dice1wins > dice2wins: \n",
    "                    Total_win.append(1)\n",
    "                    #print (i,j,Total_win)\n",
    "        if sum(Total_win) == len (dices)-1:\n",
    "            return i\n",
    "    \n",
    "    \n",
    "    return -1"
   ]
  },
  {
   "cell_type": "code",
   "execution_count": 35,
   "metadata": {},
   "outputs": [],
   "source": [
    "dices1 = [[1, 1, 2, 4, 5, 7], [1, 2, 2, 3, 4, 7], [1, 2, 3, 4, 5, 6]]"
   ]
  },
  {
   "cell_type": "code",
   "execution_count": 48,
   "metadata": {},
   "outputs": [
    {
     "name": "stdout",
     "output_type": "stream",
     "text": [
      "0 1 [1]\n",
      "1 2 [1]\n",
      "1 3 [1, 1]\n",
      "2 0 [1]\n",
      "3 2 [1]\n"
     ]
    },
    {
     "data": {
      "text/plain": [
       "-1"
      ]
     },
     "execution_count": 48,
     "metadata": {},
     "output_type": "execute_result"
    }
   ],
   "source": [
    "find_the_best_dice(dices3)"
   ]
  },
  {
   "cell_type": "code",
   "execution_count": 37,
   "metadata": {},
   "outputs": [],
   "source": [
    "dices2 = [[1, 1, 6, 6, 8, 8], [2, 2, 4, 4, 9, 9], [3, 3, 5, 5, 7, 7]]"
   ]
  },
  {
   "cell_type": "code",
   "execution_count": 39,
   "metadata": {},
   "outputs": [],
   "source": [
    "dices3 = [[3, 3, 3, 3, 3, 3], [6, 6, 2, 2, 2, 2], [4, 4, 4, 4, 0, 0], [5, 5, 5, 1, 1, 1]]"
   ]
  },
  {
   "cell_type": "code",
   "execution_count": 50,
   "metadata": {},
   "outputs": [],
   "source": [
    "def wining_dice(dices): \n",
    "    assert all(len(dice) == 6 for dice in dices)\n",
    "    num_rounds = 10**4\n",
    "    win_dice = {}\n",
    "    for i in range (len (dices)):\n",
    "        Total_win = []\n",
    "        for j in range (len(dices)):\n",
    "            if j!= i :\n",
    "                dice1wins, dice2wins =count_wins(dices[i],dices[j])\n",
    "        \n",
    "                if dice1wins > dice2wins: \n",
    "                    win_dice[j]=i\n",
    "                elif dice1wins < dice2wins:\n",
    "                    win_dice[i]=j\n",
    "                    #print (i,j,Total_win)\n",
    "        \n",
    "    \n",
    "    \n",
    "    return win_dice"
   ]
  },
  {
   "cell_type": "code",
   "execution_count": 51,
   "metadata": {},
   "outputs": [
    {
     "data": {
      "text/plain": [
       "{1: 0, 0: 2, 2: 3, 3: 1}"
      ]
     },
     "execution_count": 51,
     "metadata": {},
     "output_type": "execute_result"
    }
   ],
   "source": [
    "wining_dice(dices3)"
   ]
  },
  {
   "cell_type": "code",
   "execution_count": 61,
   "metadata": {},
   "outputs": [],
   "source": [
    "def compute_strategy(dices):\n",
    "    assert all(len(dice) == 6 for dice in dices)\n",
    "\n",
    "    strategy = dict()\n",
    "    strategy[\"choose_first\"] = True\n",
    "    strategy[\"first_dice\"] = 0\n",
    "    best_dice = find_the_best_dice(dices)\n",
    "    if best_dice != -1 : \n",
    "        strategy[\"choose_first\"] = True\n",
    "        strategy[\"first_dice\"] = best_dice \n",
    "    else :\n",
    "        strategy[\"choose_first\"] = False\n",
    "        strategy.update(wining_dice(dices))\n",
    "        del strategy[\"first_dice\"]\n",
    "        \n",
    "    # write your code here\n",
    "    \n",
    "    return strategy"
   ]
  },
  {
   "cell_type": "code",
   "execution_count": 53,
   "metadata": {},
   "outputs": [],
   "source": [
    "dices4 = [[4, 4, 4, 4, 0, 0], [7, 7, 3, 3, 3, 3], [6, 6, 2, 2, 2, 2], [5, 5, 5, 1, 1, 1]]"
   ]
  },
  {
   "cell_type": "code",
   "execution_count": 63,
   "metadata": {},
   "outputs": [
    {
     "data": {
      "text/plain": [
       "{'choose_first': False, 0: 1, 2: 0, 1: 2}"
      ]
     },
     "execution_count": 63,
     "metadata": {},
     "output_type": "execute_result"
    }
   ],
   "source": [
    "compute_strategy(dices5)"
   ]
  },
  {
   "cell_type": "code",
   "execution_count": 62,
   "metadata": {},
   "outputs": [],
   "source": [
    "dices5 = [[1, 1, 4, 6, 7, 8], [2, 2, 2, 6, 7, 7], [3, 3, 3, 5, 5, 8]]"
   ]
  },
  {
   "cell_type": "code",
   "execution_count": null,
   "metadata": {},
   "outputs": [],
   "source": []
  },
  {
   "cell_type": "code",
   "execution_count": null,
   "metadata": {},
   "outputs": [],
   "source": []
  }
 ],
 "metadata": {
  "kernelspec": {
   "display_name": "Python 3",
   "language": "python",
   "name": "python3"
  },
  "language_info": {
   "codemirror_mode": {
    "name": "ipython",
    "version": 3
   },
   "file_extension": ".py",
   "mimetype": "text/x-python",
   "name": "python",
   "nbconvert_exporter": "python",
   "pygments_lexer": "ipython3",
   "version": "3.8.3"
  }
 },
 "nbformat": 4,
 "nbformat_minor": 4
}
